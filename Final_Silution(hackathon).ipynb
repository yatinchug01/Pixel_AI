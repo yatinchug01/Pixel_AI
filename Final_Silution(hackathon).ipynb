{
  "nbformat": 4,
  "nbformat_minor": 0,
  "metadata": {
    "colab": {
      "provenance": []
    },
    "kernelspec": {
      "name": "python3",
      "display_name": "Python 3"
    },
    "language_info": {
      "name": "python"
    }
  },
  "cells": [
    {
      "cell_type": "code",
      "execution_count": 2,
      "metadata": {
        "id": "zuqixeGUzKuc"
      },
      "outputs": [],
      "source": [
        "import torch\n",
        "import torch.nn as nn\n",
        "import torch.nn.functional as F\n",
        "import pandas as pd"
      ]
    },
    {
      "cell_type": "code",
      "source": [
        "from sklearn.model_selection import train_test_split\n",
        "data = pd.read_csv('train_data.csv')\n"
      ],
      "metadata": {
        "id": "DdEoK2JmWC47"
      },
      "execution_count": 3,
      "outputs": []
    },
    {
      "cell_type": "code",
      "source": [
        "data.head()"
      ],
      "metadata": {
        "colab": {
          "base_uri": "https://localhost:8080/",
          "height": 250
        },
        "id": "77qlpGjTWqX1",
        "outputId": "5a40c377-59d9-4425-d40a-1ab135a83d65"
      },
      "execution_count": 4,
      "outputs": [
        {
          "output_type": "execute_result",
          "data": {
            "text/plain": [
              "   Unnamed: 0         Image          R           G           B   Contrast  \\\n",
              "0           0  DSC03672.JPG  35.019852  156.003722  120.733321  33.427004   \n",
              "1           1  DSC03673.JPG  67.234275  191.549269  157.974661  45.049262   \n",
              "2           2  DSC03674.JPG  81.729594  200.065917  168.925371  48.057253   \n",
              "3           3  DSC03675.JPG  46.449320  163.743535  132.749118  40.541535   \n",
              "4           4  DSC03676.JPG  44.298968  163.979309  130.859399  39.470236   \n",
              "\n",
              "   Brightness        y_R         y_G         y_B  y_Contrast  y_Brightness  \n",
              "0   88.865257  53.391474  201.865541  150.053827   51.590215     76.670915  \n",
              "1   69.016516  63.093017  205.004082  161.341813   55.443302     70.631014  \n",
              "2   64.006360  70.593650  212.716109  178.108053   62.726450     73.407497  \n",
              "3   81.118127  57.301819  196.353726  152.783891   53.439644     75.311232  \n",
              "4   81.539691  54.697028  196.917517  150.698785   52.907086     75.685523  "
            ],
            "text/html": [
              "\n",
              "  <div id=\"df-f6eb7278-4d15-4dc0-b922-160ec5bb1c03\">\n",
              "    <div class=\"colab-df-container\">\n",
              "      <div>\n",
              "<style scoped>\n",
              "    .dataframe tbody tr th:only-of-type {\n",
              "        vertical-align: middle;\n",
              "    }\n",
              "\n",
              "    .dataframe tbody tr th {\n",
              "        vertical-align: top;\n",
              "    }\n",
              "\n",
              "    .dataframe thead th {\n",
              "        text-align: right;\n",
              "    }\n",
              "</style>\n",
              "<table border=\"1\" class=\"dataframe\">\n",
              "  <thead>\n",
              "    <tr style=\"text-align: right;\">\n",
              "      <th></th>\n",
              "      <th>Unnamed: 0</th>\n",
              "      <th>Image</th>\n",
              "      <th>R</th>\n",
              "      <th>G</th>\n",
              "      <th>B</th>\n",
              "      <th>Contrast</th>\n",
              "      <th>Brightness</th>\n",
              "      <th>y_R</th>\n",
              "      <th>y_G</th>\n",
              "      <th>y_B</th>\n",
              "      <th>y_Contrast</th>\n",
              "      <th>y_Brightness</th>\n",
              "    </tr>\n",
              "  </thead>\n",
              "  <tbody>\n",
              "    <tr>\n",
              "      <th>0</th>\n",
              "      <td>0</td>\n",
              "      <td>DSC03672.JPG</td>\n",
              "      <td>35.019852</td>\n",
              "      <td>156.003722</td>\n",
              "      <td>120.733321</td>\n",
              "      <td>33.427004</td>\n",
              "      <td>88.865257</td>\n",
              "      <td>53.391474</td>\n",
              "      <td>201.865541</td>\n",
              "      <td>150.053827</td>\n",
              "      <td>51.590215</td>\n",
              "      <td>76.670915</td>\n",
              "    </tr>\n",
              "    <tr>\n",
              "      <th>1</th>\n",
              "      <td>1</td>\n",
              "      <td>DSC03673.JPG</td>\n",
              "      <td>67.234275</td>\n",
              "      <td>191.549269</td>\n",
              "      <td>157.974661</td>\n",
              "      <td>45.049262</td>\n",
              "      <td>69.016516</td>\n",
              "      <td>63.093017</td>\n",
              "      <td>205.004082</td>\n",
              "      <td>161.341813</td>\n",
              "      <td>55.443302</td>\n",
              "      <td>70.631014</td>\n",
              "    </tr>\n",
              "    <tr>\n",
              "      <th>2</th>\n",
              "      <td>2</td>\n",
              "      <td>DSC03674.JPG</td>\n",
              "      <td>81.729594</td>\n",
              "      <td>200.065917</td>\n",
              "      <td>168.925371</td>\n",
              "      <td>48.057253</td>\n",
              "      <td>64.006360</td>\n",
              "      <td>70.593650</td>\n",
              "      <td>212.716109</td>\n",
              "      <td>178.108053</td>\n",
              "      <td>62.726450</td>\n",
              "      <td>73.407497</td>\n",
              "    </tr>\n",
              "    <tr>\n",
              "      <th>3</th>\n",
              "      <td>3</td>\n",
              "      <td>DSC03675.JPG</td>\n",
              "      <td>46.449320</td>\n",
              "      <td>163.743535</td>\n",
              "      <td>132.749118</td>\n",
              "      <td>40.541535</td>\n",
              "      <td>81.118127</td>\n",
              "      <td>57.301819</td>\n",
              "      <td>196.353726</td>\n",
              "      <td>152.783891</td>\n",
              "      <td>53.439644</td>\n",
              "      <td>75.311232</td>\n",
              "    </tr>\n",
              "    <tr>\n",
              "      <th>4</th>\n",
              "      <td>4</td>\n",
              "      <td>DSC03676.JPG</td>\n",
              "      <td>44.298968</td>\n",
              "      <td>163.979309</td>\n",
              "      <td>130.859399</td>\n",
              "      <td>39.470236</td>\n",
              "      <td>81.539691</td>\n",
              "      <td>54.697028</td>\n",
              "      <td>196.917517</td>\n",
              "      <td>150.698785</td>\n",
              "      <td>52.907086</td>\n",
              "      <td>75.685523</td>\n",
              "    </tr>\n",
              "  </tbody>\n",
              "</table>\n",
              "</div>\n",
              "      <button class=\"colab-df-convert\" onclick=\"convertToInteractive('df-f6eb7278-4d15-4dc0-b922-160ec5bb1c03')\"\n",
              "              title=\"Convert this dataframe to an interactive table.\"\n",
              "              style=\"display:none;\">\n",
              "        \n",
              "  <svg xmlns=\"http://www.w3.org/2000/svg\" height=\"24px\"viewBox=\"0 0 24 24\"\n",
              "       width=\"24px\">\n",
              "    <path d=\"M0 0h24v24H0V0z\" fill=\"none\"/>\n",
              "    <path d=\"M18.56 5.44l.94 2.06.94-2.06 2.06-.94-2.06-.94-.94-2.06-.94 2.06-2.06.94zm-11 1L8.5 8.5l.94-2.06 2.06-.94-2.06-.94L8.5 2.5l-.94 2.06-2.06.94zm10 10l.94 2.06.94-2.06 2.06-.94-2.06-.94-.94-2.06-.94 2.06-2.06.94z\"/><path d=\"M17.41 7.96l-1.37-1.37c-.4-.4-.92-.59-1.43-.59-.52 0-1.04.2-1.43.59L10.3 9.45l-7.72 7.72c-.78.78-.78 2.05 0 2.83L4 21.41c.39.39.9.59 1.41.59.51 0 1.02-.2 1.41-.59l7.78-7.78 2.81-2.81c.8-.78.8-2.07 0-2.86zM5.41 20L4 18.59l7.72-7.72 1.47 1.35L5.41 20z\"/>\n",
              "  </svg>\n",
              "      </button>\n",
              "      \n",
              "  <style>\n",
              "    .colab-df-container {\n",
              "      display:flex;\n",
              "      flex-wrap:wrap;\n",
              "      gap: 12px;\n",
              "    }\n",
              "\n",
              "    .colab-df-convert {\n",
              "      background-color: #E8F0FE;\n",
              "      border: none;\n",
              "      border-radius: 50%;\n",
              "      cursor: pointer;\n",
              "      display: none;\n",
              "      fill: #1967D2;\n",
              "      height: 32px;\n",
              "      padding: 0 0 0 0;\n",
              "      width: 32px;\n",
              "    }\n",
              "\n",
              "    .colab-df-convert:hover {\n",
              "      background-color: #E2EBFA;\n",
              "      box-shadow: 0px 1px 2px rgba(60, 64, 67, 0.3), 0px 1px 3px 1px rgba(60, 64, 67, 0.15);\n",
              "      fill: #174EA6;\n",
              "    }\n",
              "\n",
              "    [theme=dark] .colab-df-convert {\n",
              "      background-color: #3B4455;\n",
              "      fill: #D2E3FC;\n",
              "    }\n",
              "\n",
              "    [theme=dark] .colab-df-convert:hover {\n",
              "      background-color: #434B5C;\n",
              "      box-shadow: 0px 1px 3px 1px rgba(0, 0, 0, 0.15);\n",
              "      filter: drop-shadow(0px 1px 2px rgba(0, 0, 0, 0.3));\n",
              "      fill: #FFFFFF;\n",
              "    }\n",
              "  </style>\n",
              "\n",
              "      <script>\n",
              "        const buttonEl =\n",
              "          document.querySelector('#df-f6eb7278-4d15-4dc0-b922-160ec5bb1c03 button.colab-df-convert');\n",
              "        buttonEl.style.display =\n",
              "          google.colab.kernel.accessAllowed ? 'block' : 'none';\n",
              "\n",
              "        async function convertToInteractive(key) {\n",
              "          const element = document.querySelector('#df-f6eb7278-4d15-4dc0-b922-160ec5bb1c03');\n",
              "          const dataTable =\n",
              "            await google.colab.kernel.invokeFunction('convertToInteractive',\n",
              "                                                     [key], {});\n",
              "          if (!dataTable) return;\n",
              "\n",
              "          const docLinkHtml = 'Like what you see? Visit the ' +\n",
              "            '<a target=\"_blank\" href=https://colab.research.google.com/notebooks/data_table.ipynb>data table notebook</a>'\n",
              "            + ' to learn more about interactive tables.';\n",
              "          element.innerHTML = '';\n",
              "          dataTable['output_type'] = 'display_data';\n",
              "          await google.colab.output.renderOutput(dataTable, element);\n",
              "          const docLink = document.createElement('div');\n",
              "          docLink.innerHTML = docLinkHtml;\n",
              "          element.appendChild(docLink);\n",
              "        }\n",
              "      </script>\n",
              "    </div>\n",
              "  </div>\n",
              "  "
            ]
          },
          "metadata": {},
          "execution_count": 4
        }
      ]
    },
    {
      "cell_type": "code",
      "source": [
        "X = data[['R','G','B','Contrast','Brightness']]\n",
        "y = data[['y_R','y_G','y_B','y_Contrast','y_Brightness']]"
      ],
      "metadata": {
        "id": "-7akSWIGW3bi"
      },
      "execution_count": 16,
      "outputs": []
    },
    {
      "cell_type": "code",
      "source": [
        "X = X.to_numpy()\n",
        "y = y.to_numpy()\n"
      ],
      "metadata": {
        "id": "Q0A_Qf0mX4Mb"
      },
      "execution_count": 17,
      "outputs": []
    },
    {
      "cell_type": "code",
      "source": [
        "X_train,X_test,y_train,y_test= train_test_split(X,y,test_size = 0.25)\n"
      ],
      "metadata": {
        "id": "aJ5D2lRwXUX1"
      },
      "execution_count": 18,
      "outputs": []
    },
    {
      "cell_type": "code",
      "source": [
        "X_train"
      ],
      "metadata": {
        "colab": {
          "base_uri": "https://localhost:8080/"
        },
        "id": "sMDGUgFKZXa9",
        "outputId": "2f1dad7f-161c-476d-bb55-870900777d73"
      },
      "execution_count": 19,
      "outputs": [
        {
          "output_type": "execute_result",
          "data": {
            "text/plain": [
              "array([[ 56.40077513, 160.8512083 , 129.2907364 ,  41.65281439,\n",
              "         74.02102621],\n",
              "       [ 66.99255767, 154.4134384 , 130.5870729 ,  38.44645033,\n",
              "         69.47827088],\n",
              "       [ 47.77916279, 144.6648168 , 113.815626  ,  36.18217634,\n",
              "         68.39481825],\n",
              "       ...,\n",
              "       [ 60.56041421, 163.9023641 , 138.8403695 ,  40.22760247,\n",
              "         85.85824767],\n",
              "       [ 50.61340252,  35.39988204,  42.90048905,  17.6170093 ,\n",
              "         36.70806775],\n",
              "       [ 68.39046713, 140.2713797 , 121.6382635 ,  34.73302662,\n",
              "         61.38244933]])"
            ]
          },
          "metadata": {},
          "execution_count": 19
        }
      ]
    },
    {
      "cell_type": "code",
      "source": [
        "X_train = torch.Tensor(X_train)\n",
        "X_test = torch.Tensor(X_test)\n",
        "y_train = torch.Tensor(y_train)\n",
        "y_test = torch.Tensor(y_test)"
      ],
      "metadata": {
        "id": "zC3PJlUMXmGJ"
      },
      "execution_count": 20,
      "outputs": []
    },
    {
      "cell_type": "code",
      "source": [
        "class ANN_model(nn.Module):\n",
        "    def __init__(self,input_features=5,hidden1 = 50,hidden2 = 50,hidden3 = 45,out_features=5):\n",
        "        super().__init__()\n",
        "        self.fully_connected1 = nn.Linear(input_features,hidden1)\n",
        "        self.fully_connected2 = nn.Linear(hidden1,hidden2)\n",
        "        self.fully_connected3 = nn.Linear(hidden2,hidden3)\n",
        "        self.out = nn.Linear(hidden3,out_features)\n",
        "    def forward(self,x):\n",
        "        x = F.relu(self.fully_connected1(x))\n",
        "        x = F.relu(self.fully_connected2(x))\n",
        "        x = F.relu(self.fully_connected3(x))\n",
        "        x = self.out(x)\n",
        "        return x\n",
        "\n"
      ],
      "metadata": {
        "id": "yBuLCPPtXp0B"
      },
      "execution_count": 21,
      "outputs": []
    },
    {
      "cell_type": "code",
      "source": [
        "torch.manual_seed(20)\n",
        "model = ANN_model()\n",
        "\n",
        "loss_function = nn.L1Loss()\n",
        "optimizer = torch.optim.Adam(model.parameters(),lr = 0.04)"
      ],
      "metadata": {
        "id": "0IOjzpjXZs6I"
      },
      "execution_count": 22,
      "outputs": []
    },
    {
      "cell_type": "code",
      "source": [
        "y_train"
      ],
      "metadata": {
        "colab": {
          "base_uri": "https://localhost:8080/"
        },
        "id": "u_uajAWKbofU",
        "outputId": "c4cd2ede-0720-4786-fac8-ae322eb7d5f8"
      },
      "execution_count": 38,
      "outputs": [
        {
          "output_type": "execute_result",
          "data": {
            "text/plain": [
              "tensor([[ 30.1174, 185.2516, 135.8235,  52.2155, 107.4449],\n",
              "        [ 60.5996, 193.9066, 153.3245,  63.4297,  82.7506],\n",
              "        [ 23.3027, 169.7754, 105.1831,  49.9784,  98.3162],\n",
              "        ...,\n",
              "        [ 39.6824, 183.5883, 142.5553,  39.7669, 118.3089],\n",
              "        [117.0886,  86.8151, 101.3602,  45.8326,  90.1179],\n",
              "        [ 53.5981, 159.4688, 119.8872,  45.5524,  72.3800]])"
            ]
          },
          "metadata": {},
          "execution_count": 38
        }
      ]
    },
    {
      "cell_type": "code",
      "source": [
        "epochs = 800\n",
        "final_losses=[]\n",
        "for i in range(epochs):\n",
        "    i+=1\n",
        "    y_pred = model.forward(X_train)\n",
        "    loss = loss_function(y_pred,y_train)\n",
        "    final_losses.append(loss)\n",
        "    if i%10== 1:\n",
        "        print(\"Epoch Number:{} and loss: {}\".format(i,loss.item()))\n",
        "    optimizer.zero_grad()\n",
        "    loss.backward()\n",
        "    optimizer.step()"
      ],
      "metadata": {
        "colab": {
          "base_uri": "https://localhost:8080/"
        },
        "id": "qx3yBRdSZwsg",
        "outputId": "d4f81daf-f26d-4366-ed48-b8848a8583db"
      },
      "execution_count": 24,
      "outputs": [
        {
          "output_type": "stream",
          "name": "stdout",
          "text": [
            "Epoch Number:1 and loss: 8.233614921569824\n",
            "Epoch Number:11 and loss: 8.800740242004395\n",
            "Epoch Number:21 and loss: 8.463773727416992\n",
            "Epoch Number:31 and loss: 8.952302932739258\n",
            "Epoch Number:41 and loss: 7.988983631134033\n",
            "Epoch Number:51 and loss: 8.169184684753418\n",
            "Epoch Number:61 and loss: 7.871326446533203\n",
            "Epoch Number:71 and loss: 8.330317497253418\n",
            "Epoch Number:81 and loss: 8.16981029510498\n",
            "Epoch Number:91 and loss: 8.62421989440918\n",
            "Epoch Number:101 and loss: 8.377964973449707\n",
            "Epoch Number:111 and loss: 8.303437232971191\n",
            "Epoch Number:121 and loss: 10.150906562805176\n",
            "Epoch Number:131 and loss: 7.85744571685791\n",
            "Epoch Number:141 and loss: 7.750137805938721\n",
            "Epoch Number:151 and loss: 7.432345867156982\n",
            "Epoch Number:161 and loss: 7.946929931640625\n",
            "Epoch Number:171 and loss: 7.739403247833252\n",
            "Epoch Number:181 and loss: 8.851107597351074\n",
            "Epoch Number:191 and loss: 8.035443305969238\n",
            "Epoch Number:201 and loss: 7.311936855316162\n",
            "Epoch Number:211 and loss: 9.810372352600098\n",
            "Epoch Number:221 and loss: 9.902413368225098\n",
            "Epoch Number:231 and loss: 8.380470275878906\n",
            "Epoch Number:241 and loss: 7.657048225402832\n",
            "Epoch Number:251 and loss: 7.619440078735352\n",
            "Epoch Number:261 and loss: 9.439188957214355\n",
            "Epoch Number:271 and loss: 7.1291093826293945\n",
            "Epoch Number:281 and loss: 7.7531843185424805\n",
            "Epoch Number:291 and loss: 8.101485252380371\n",
            "Epoch Number:301 and loss: 7.15403413772583\n",
            "Epoch Number:311 and loss: 7.594456195831299\n",
            "Epoch Number:321 and loss: 8.12940788269043\n",
            "Epoch Number:331 and loss: 7.751746654510498\n",
            "Epoch Number:341 and loss: 7.317223072052002\n",
            "Epoch Number:351 and loss: 7.334007263183594\n",
            "Epoch Number:361 and loss: 7.741620063781738\n",
            "Epoch Number:371 and loss: 7.791842460632324\n",
            "Epoch Number:381 and loss: 7.709249973297119\n",
            "Epoch Number:391 and loss: 7.985870838165283\n",
            "Epoch Number:401 and loss: 7.571704387664795\n",
            "Epoch Number:411 and loss: 6.878036022186279\n",
            "Epoch Number:421 and loss: 8.60898494720459\n",
            "Epoch Number:431 and loss: 7.061095714569092\n",
            "Epoch Number:441 and loss: 7.478397369384766\n",
            "Epoch Number:451 and loss: 9.060578346252441\n",
            "Epoch Number:461 and loss: 7.082774639129639\n",
            "Epoch Number:471 and loss: 7.371222496032715\n",
            "Epoch Number:481 and loss: 7.015139579772949\n",
            "Epoch Number:491 and loss: 7.088897228240967\n",
            "Epoch Number:501 and loss: 7.629112720489502\n",
            "Epoch Number:511 and loss: 7.118476867675781\n",
            "Epoch Number:521 and loss: 7.505561828613281\n",
            "Epoch Number:531 and loss: 7.321152210235596\n",
            "Epoch Number:541 and loss: 8.471939086914062\n",
            "Epoch Number:551 and loss: 8.041804313659668\n",
            "Epoch Number:561 and loss: 7.3496575355529785\n",
            "Epoch Number:571 and loss: 7.0140886306762695\n",
            "Epoch Number:581 and loss: 6.660624027252197\n",
            "Epoch Number:591 and loss: 6.785826683044434\n",
            "Epoch Number:601 and loss: 6.863525390625\n",
            "Epoch Number:611 and loss: 6.981517791748047\n",
            "Epoch Number:621 and loss: 7.681392669677734\n",
            "Epoch Number:631 and loss: 8.592408180236816\n",
            "Epoch Number:641 and loss: 6.954264163970947\n",
            "Epoch Number:651 and loss: 7.775779724121094\n",
            "Epoch Number:661 and loss: 6.628274917602539\n",
            "Epoch Number:671 and loss: 6.618221759796143\n",
            "Epoch Number:681 and loss: 8.106305122375488\n",
            "Epoch Number:691 and loss: 6.899362564086914\n",
            "Epoch Number:701 and loss: 7.42526388168335\n",
            "Epoch Number:711 and loss: 7.82334041595459\n",
            "Epoch Number:721 and loss: 6.69379186630249\n",
            "Epoch Number:731 and loss: 6.797909259796143\n",
            "Epoch Number:741 and loss: 6.43211555480957\n",
            "Epoch Number:751 and loss: 7.330573558807373\n",
            "Epoch Number:761 and loss: 7.637928485870361\n",
            "Epoch Number:771 and loss: 6.454634189605713\n",
            "Epoch Number:781 and loss: 7.402374267578125\n",
            "Epoch Number:791 and loss: 7.141624450683594\n"
          ]
        }
      ]
    },
    {
      "cell_type": "code",
      "source": [
        " for i,data in enumerate(X_test):\n",
        "  print(i,data)"
      ],
      "metadata": {
        "colab": {
          "base_uri": "https://localhost:8080/"
        },
        "id": "1Qn_cdWgbKxT",
        "outputId": "68638f0d-2a0a-48be-bda4-a9c16327c99d"
      },
      "execution_count": 35,
      "outputs": [
        {
          "output_type": "stream",
          "name": "stdout",
          "text": [
            "0 tensor([ 46.8822, 141.9085, 112.8431,  36.4610,  68.7633])\n",
            "1 tensor([ 53.8827, 150.8241, 118.9811,  30.0510,  64.3085])\n",
            "2 tensor([ 46.6790, 143.4324, 111.3230,  34.4794,  63.6656])\n",
            "3 tensor([ 55.1101, 159.8802, 128.3756,  41.1449,  74.2514])\n",
            "4 tensor([74.1114, 64.4950, 78.2898, 23.3107, 56.4565])\n",
            "5 tensor([ 43.8804, 146.0584, 118.3655,  37.3872,  82.5062])\n",
            "6 tensor([ 58.7051, 118.3307, 105.1043,  38.5013,  58.1040])\n",
            "7 tensor([80.9111, 84.8072, 95.0180, 51.0815, 81.1619])\n",
            "8 tensor([ 54.7731, 152.8067, 122.4995,  36.1316,  75.2114])\n",
            "9 tensor([ 69.6473,  83.4839, 131.1935,  48.8331, 109.9230])\n",
            "10 tensor([ 46.1971, 142.7102, 111.9429,  36.1441,  69.2964])\n",
            "11 tensor([ 75.9592, 160.4743, 145.8477,  44.0940,  79.3034])\n",
            "12 tensor([ 64.1640, 146.0916, 126.1150,  42.0521,  63.8866])\n",
            "13 tensor([ 85.8023, 167.5187, 147.0743,  51.2897,  85.4388])\n",
            "14 tensor([ 67.5764,  79.7778, 102.0181,  31.3762,  73.2817])\n",
            "15 tensor([ 81.7296, 200.0659, 168.9254,  48.0573,  64.0064])\n",
            "16 tensor([ 43.8420, 146.5499, 114.1218,  35.9990,  72.0946])\n",
            "17 tensor([ 81.1207, 160.5844, 150.1291,  45.4289,  80.6467])\n",
            "18 tensor([ 42.9393, 142.7527, 115.8442,  36.1854,  82.8562])\n",
            "19 tensor([ 70.9909, 158.4427, 144.8810,  40.5729,  74.4848])\n",
            "20 tensor([ 95.8300, 106.5854, 133.5960,  54.1560, 111.4132])\n",
            "21 tensor([ 42.9127, 144.9272, 113.7354,  36.1088,  72.0362])\n",
            "22 tensor([ 55.0015, 155.0468, 125.2545,  35.6773,  74.1989])\n",
            "23 tensor([ 51.8298, 128.0404, 115.7905,  30.5856,  77.7239])\n",
            "24 tensor([53.0634, 61.0213, 84.6850, 37.3321, 66.4005])\n",
            "25 tensor([ 77.6263,  88.8931, 138.6545,  51.7262, 123.8393])\n",
            "26 tensor([ 54.8913, 142.3510, 129.7719,  35.1224,  63.1269])\n",
            "27 tensor([56.8355, 67.1700, 96.9468, 47.9256, 80.2328])\n",
            "28 tensor([ 91.6242, 174.6204, 154.2074,  48.4048,  84.6555])\n",
            "29 tensor([56.6769, 40.9079, 50.3419, 19.9048, 41.5327])\n",
            "30 tensor([ 51.7067, 134.5305, 125.1825,  35.9830,  64.8216])\n",
            "31 tensor([76.9871, 56.2290, 69.3868, 19.9922, 55.0097])\n",
            "32 tensor([ 70.3433,  84.7965, 140.8838,  49.3613, 119.2404])\n",
            "33 tensor([ 68.8767, 152.4193, 131.8939,  46.2497,  68.2841])\n",
            "34 tensor([ 47.0058, 144.0043, 111.3921,  34.6386,  63.7419])\n",
            "35 tensor([ 61.4012, 151.0488, 138.1976,  38.9407,  72.8278])\n",
            "36 tensor([83.3711, 74.8325, 82.2589, 40.6163, 65.5828])\n",
            "37 tensor([56.1728, 67.0300, 97.6108, 47.6937, 81.1101])\n",
            "38 tensor([110.5252, 115.1867, 128.1285,  66.4303, 112.3613])\n",
            "39 tensor([ 41.6966, 140.1777, 107.9076,  35.8558,  67.9710])\n",
            "40 tensor([ 52.8130, 150.0149, 118.9888,  30.8039,  65.8008])\n",
            "41 tensor([ 58.1542, 165.2634, 134.9808,  46.8628,  80.8082])\n",
            "42 tensor([78.0789, 83.6456, 97.7061, 50.2185, 81.9330])\n",
            "43 tensor([ 55.3115, 153.4443, 126.2033,  38.3034,  76.6564])\n",
            "44 tensor([ 48.1534, 147.3161, 126.1969,  35.4262,  69.2865])\n",
            "45 tensor([ 47.6987, 116.8445, 105.6453,  27.0540,  77.5283])\n",
            "46 tensor([ 59.4343, 157.1564, 129.0606,  38.0086,  74.0755])\n",
            "47 tensor([ 53.3616, 156.5501, 126.6131,  36.0020,  74.3607])\n",
            "48 tensor([ 74.3795, 173.9520, 145.2399,  41.1752,  81.7655])\n",
            "49 tensor([ 90.6705, 173.9401, 153.4766,  49.7893,  88.2032])\n",
            "50 tensor([87.6391, 69.9471, 94.7971, 31.1576, 75.0365])\n",
            "51 tensor([ 54.0935, 134.2065, 107.2081,  38.3716,  57.4754])\n",
            "52 tensor([ 46.4570, 143.3314, 123.2454,  35.2957,  69.3300])\n",
            "53 tensor([46.2820, 32.3830, 39.6200, 18.3410, 34.3295])\n",
            "54 tensor([ 35.0967, 130.7468,  98.4754,  29.5204,  83.5095])\n",
            "55 tensor([ 65.4598, 147.0617, 131.3084,  32.2107,  49.8317])\n",
            "56 tensor([ 51.9717, 130.1814, 103.0609,  38.1700,  57.5650])\n",
            "57 tensor([ 52.9185, 132.3821, 105.9749,  40.1228,  59.8186])\n",
            "58 tensor([ 68.2848, 170.1025, 141.9078,  40.9590,  82.9982])\n",
            "59 tensor([ 46.8046, 144.9234, 116.1374,  36.2861,  70.1651])\n",
            "60 tensor([ 66.6135, 157.5580, 136.3026,  49.7415,  76.0766])\n",
            "61 tensor([ 54.9670, 158.4030, 129.8704,  37.7979,  62.4481])\n",
            "62 tensor([ 35.0199, 156.0037, 120.7333,  33.4270,  88.8653])\n",
            "63 tensor([58.4726, 44.9291, 57.8164, 31.1061, 49.2561])\n",
            "64 tensor([ 70.4598, 159.9761, 140.5348,  57.0930,  86.6467])\n",
            "65 tensor([ 70.3129, 151.8850, 131.8203,  41.7073,  69.9670])\n",
            "66 tensor([87.2277, 71.8922, 95.4181, 36.7388, 74.8389])\n",
            "67 tensor([ 63.6994, 154.7646, 134.7633,  48.8037,  76.9303])\n",
            "68 tensor([118.5200, 129.7310, 152.8020,  68.5324, 135.6491])\n",
            "69 tensor([72.4536, 78.8914, 95.5417, 40.1659, 73.3499])\n",
            "70 tensor([74.7537, 60.2485, 83.4580, 29.4131, 65.6893])\n",
            "71 tensor([ 51.9233, 137.7984, 118.9967,  35.1281,  63.7877])\n",
            "72 tensor([ 45.9136, 128.7598, 103.8467,  30.9060,  85.2869])\n",
            "73 tensor([ 69.6292,  84.5420, 109.4818,  36.4220,  80.1947])\n",
            "74 tensor([ 60.1268, 117.4477, 104.9511,  39.5171,  57.5932])\n",
            "75 tensor([ 69.3758, 160.8190, 140.2673,  54.0351,  83.4925])\n",
            "76 tensor([ 72.5227, 152.6993, 132.3607,  41.6768,  69.6491])\n"
          ]
        }
      ]
    },
    {
      "cell_type": "code",
      "source": [
        "pred = []\n",
        "with torch.no_grad():\n",
        "    for i,data in enumerate(X_test):\n",
        "        y_pred = model(data)\n",
        "        pred.append(y_pred.tolist())\n",
        "        "
      ],
      "metadata": {
        "id": "91VoS76lZ3FX"
      },
      "execution_count": 46,
      "outputs": []
    },
    {
      "cell_type": "code",
      "source": [
        "from sklearn.metrics import mean_absolute_error"
      ],
      "metadata": {
        "id": "0Nhfo6DZabNu"
      },
      "execution_count": 29,
      "outputs": []
    },
    {
      "cell_type": "code",
      "source": [
        "pred  = torch.Tensor(pred)"
      ],
      "metadata": {
        "id": "NnFjG0Qla8q6"
      },
      "execution_count": 48,
      "outputs": []
    },
    {
      "cell_type": "code",
      "source": [
        "y_test"
      ],
      "metadata": {
        "colab": {
          "base_uri": "https://localhost:8080/"
        },
        "id": "R68b1Wb0cELl",
        "outputId": "680efe49-83bb-4833-dee0-54989305d05b"
      },
      "execution_count": 43,
      "outputs": [
        {
          "output_type": "execute_result",
          "data": {
            "text/plain": [
              "tensor([[ 22.4110, 166.0547, 104.2006,  50.5261,  98.3892],\n",
              "        [ 40.2862, 180.7822, 113.9092,  49.5130,  66.8342],\n",
              "        [ 48.4937, 172.6582, 124.2180,  48.2834,  63.2702],\n",
              "        [ 30.0271, 184.4891, 135.1822,  51.0447, 105.6258],\n",
              "        [129.6111, 109.3063, 129.6007,  64.4435, 112.3333],\n",
              "        [ 20.6347, 175.9971, 118.4708,  40.3390, 115.3824],\n",
              "        [ 48.8457, 137.4653,  98.8283,  55.8184,  84.9990],\n",
              "        [138.2980, 141.5339, 156.8327,  59.7031, 112.8090],\n",
              "        [ 46.3860, 194.8123, 143.4035,  58.1293,  94.1631],\n",
              "        [ 85.5722,  97.6947, 155.3053,  58.4452, 126.4338],\n",
              "        [ 22.2610, 168.0884, 103.2450,  49.1102,  97.4390],\n",
              "        [ 55.6780, 178.0401, 150.9428,  45.5203, 115.0022],\n",
              "        [ 56.3545, 179.9168, 141.3873,  68.5309,  80.5190],\n",
              "        [ 70.1189, 189.3022, 154.7728,  49.1945, 104.6643],\n",
              "        [ 80.5569,  85.8886, 104.0642,  42.6135,  76.0099],\n",
              "        [ 70.5937, 212.7161, 178.1080,  62.7265,  73.4075],\n",
              "        [ 18.1069, 171.3580, 104.8203,  46.8121, 101.0037],\n",
              "        [ 62.5961, 177.1211, 155.1799,  46.3795, 112.7899],\n",
              "        [ 21.6182, 172.8198, 116.3230,  40.7758, 112.3900],\n",
              "        [ 79.7019, 182.5128, 159.7394,  63.3805,  79.3457],\n",
              "        [105.5378, 111.9727, 136.7206,  55.8291, 114.5940],\n",
              "        [ 16.7605, 169.0685, 104.8556,  47.7596, 101.5772],\n",
              "        [ 45.9422, 197.1559, 146.9218,  60.2302,  92.9471],\n",
              "        [ 56.6806, 172.2314, 121.8554,  54.3336,  74.4259],\n",
              "        [ 83.1409,  89.6988, 120.4989,  59.0472,  93.4282],\n",
              "        [ 90.9263, 100.9763, 156.4125,  61.6201, 143.6041],\n",
              "        [ 23.5219, 156.6080, 116.1908,  45.5874,  99.5916],\n",
              "        [ 72.3206,  82.8736, 116.8969,  59.0048,  91.3645],\n",
              "        [ 68.7211, 191.7444, 158.2443,  51.1927, 102.5479],\n",
              "        [110.1549,  78.9464,  95.8484,  44.2457,  84.0288],\n",
              "        [ 34.6586, 160.9520, 123.6691,  49.8981,  97.4840],\n",
              "        [116.1725,  81.5353, 100.6800,  34.6608,  84.0986],\n",
              "        [ 76.3515,  89.1006, 148.1852,  55.9058, 126.7196],\n",
              "        [ 45.3551, 174.4208, 138.4946,  59.2851,  99.6267],\n",
              "        [ 47.9845, 173.2468, 125.8070,  49.1740,  64.8105],\n",
              "        [ 34.4127, 172.5843, 137.4966,  48.0102, 119.7035],\n",
              "        [161.3381, 138.5429, 151.8003,  48.4098, 104.5029],\n",
              "        [ 67.5131,  78.6492, 112.7005,  58.8134,  89.4467],\n",
              "        [147.3516, 150.8670, 167.8908,  56.7481, 117.2296],\n",
              "        [ 49.2912, 173.2141, 120.8287,  48.0015,  64.2581],\n",
              "        [ 39.6605, 179.9362, 114.5954,  49.9620,  68.5859],\n",
              "        [ 36.6049, 193.6893, 142.7039,  54.8031, 114.1427],\n",
              "        [118.4559, 124.4798, 141.3647,  62.9227, 107.0308],\n",
              "        [ 40.7677, 176.8379, 119.6374,  49.9107,  89.1366],\n",
              "        [ 32.9629, 180.4160, 124.6838,  51.0293,  85.6560],\n",
              "        [ 63.7066, 175.0395, 125.3059,  56.1462,  73.5938],\n",
              "        [ 45.1005, 180.7501, 122.0988,  53.2931,  83.5361],\n",
              "        [ 42.1944, 198.4950, 148.1408,  60.2173,  95.2279],\n",
              "        [ 50.7406, 193.2432, 148.4778,  49.2822, 102.6939],\n",
              "        [ 68.2585, 191.0078, 157.3764,  48.4661, 105.7614],\n",
              "        [115.9124,  87.9414, 123.7455,  44.6096, 108.6402],\n",
              "        [ 68.1306, 158.4681, 121.4216,  45.9551,  52.7875],\n",
              "        [ 20.0014, 161.2821, 110.7357,  42.4221,  97.3767],\n",
              "        [106.7869,  79.5163,  95.4730,  46.2617,  83.2003],\n",
              "        [ 43.5557, 184.4983, 142.2603,  51.0709,  85.4857],\n",
              "        [ 31.1389, 154.9626, 118.8825,  51.4493,  88.2889],\n",
              "        [ 65.2979, 154.1335, 117.0379,  45.4926,  53.6300],\n",
              "        [ 66.3173, 156.3484, 119.9492,  48.0592,  55.8910],\n",
              "        [ 44.3738, 189.9925, 145.6573,  45.7325, 110.0506],\n",
              "        [ 19.5414, 166.7290, 106.3141,  48.4994, 102.1120],\n",
              "        [ 48.2990, 182.7752, 145.8007,  57.9808, 116.8313],\n",
              "        [ 25.4604, 171.6192, 114.8245,  48.9901,  82.5356],\n",
              "        [ 53.3915, 201.8655, 150.0538,  51.5902,  76.6709],\n",
              "        [110.1308,  76.9626,  97.1000,  47.2698,  81.4980],\n",
              "        [ 51.1418, 184.6872, 151.0953,  63.2467, 121.4307],\n",
              "        [ 67.1217, 189.5757, 154.5419,  63.7977,  78.4440],\n",
              "        [131.6134, 105.0861, 139.3740,  51.9576, 123.3052],\n",
              "        [ 44.8603, 179.9979, 144.1909,  56.1065, 124.2895],\n",
              "        [148.8336, 154.1313, 174.7534,  55.8809, 125.5859],\n",
              "        [111.6766, 118.5473, 139.2204,  61.3858, 105.9839],\n",
              "        [108.4583,  83.1438, 119.5141,  47.3297, 101.7834],\n",
              "        [ 56.8553, 164.5804, 124.0207,  46.9870,  58.0924],\n",
              "        [ 55.5965, 179.5948, 148.9061,  55.5163,  85.7831],\n",
              "        [ 93.6796, 105.5020, 128.5273,  56.1385,  99.1096],\n",
              "        [ 44.9480, 139.2589,  96.9044,  57.6403,  86.9976],\n",
              "        [ 49.5568, 186.3510, 150.7923,  60.8379, 119.3163],\n",
              "        [ 70.4033, 190.0014, 154.9044,  64.7626,  78.0822]])"
            ]
          },
          "metadata": {},
          "execution_count": 43
        }
      ]
    },
    {
      "cell_type": "code",
      "source": [
        "mean_absolute_error(pred,y_test)"
      ],
      "metadata": {
        "colab": {
          "base_uri": "https://localhost:8080/"
        },
        "id": "JtNFCqi4avpj",
        "outputId": "2373115c-d9f3-46cb-ec3a-6dfe56a5557d"
      },
      "execution_count": 49,
      "outputs": [
        {
          "output_type": "execute_result",
          "data": {
            "text/plain": [
              "8.228266"
            ]
          },
          "metadata": {},
          "execution_count": 49
        }
      ]
    },
    {
      "cell_type": "code",
      "source": [
        "torch.save(model,'pixelmodel.pt')\n",
        "\n",
        "model = torch.load('pixelmodel.pt')\n",
        "val = torch.Tensor([[51.71115833333333, 127.93539166666666, 115.67108125, 0.9919028340080972, 115.57905208333334]])\n",
        "# model.eval(val)\n",
        "model(val)\n"
      ],
      "metadata": {
        "colab": {
          "base_uri": "https://localhost:8080/"
        },
        "id": "7t62mmpuaDJh",
        "outputId": "f8679392-182c-4b0c-8240-946eeca7facf"
      },
      "execution_count": 55,
      "outputs": [
        {
          "output_type": "execute_result",
          "data": {
            "text/plain": [
              "tensor([[ 70.2505, 248.0688, 182.4282,  64.3848,  80.1765]],\n",
              "       grad_fn=<AddmmBackward0>)"
            ]
          },
          "metadata": {},
          "execution_count": 55
        }
      ]
    },
    {
      "cell_type": "code",
      "source": [
        "df = pd.read_csv('test_values_x.csv')"
      ],
      "metadata": {
        "id": "zy5FYxNRjsJz"
      },
      "execution_count": 56,
      "outputs": []
    },
    {
      "cell_type": "code",
      "source": [
        "pred_val = df[['R','G','B','Contrast','Brightness']]\n",
        "pred_val = pred_val.to_numpy()\n"
      ],
      "metadata": {
        "id": "7pxbVBxTj2HI"
      },
      "execution_count": 60,
      "outputs": []
    },
    {
      "cell_type": "code",
      "source": [
        "values = model(torch.Tensor(pred_val))"
      ],
      "metadata": {
        "id": "sTXm2C1LkDya"
      },
      "execution_count": 62,
      "outputs": []
    },
    {
      "cell_type": "code",
      "source": [
        "values = values.tolist()\n",
        "values"
      ],
      "metadata": {
        "colab": {
          "base_uri": "https://localhost:8080/"
        },
        "id": "k5euXOn8kVXj",
        "outputId": "0df1fc73-603b-4089-8da3-c2b5f6e5c052"
      },
      "execution_count": 64,
      "outputs": [
        {
          "output_type": "execute_result",
          "data": {
            "text/plain": [
              "[[57.802345275878906,\n",
              "  154.54885864257812,\n",
              "  117.6202163696289,\n",
              "  43.61363220214844,\n",
              "  85.19639587402344],\n",
              " [42.0350227355957,\n",
              "  149.80596923828125,\n",
              "  113.09626007080078,\n",
              "  43.966487884521484,\n",
              "  95.60227966308594],\n",
              " [39.458255767822266,\n",
              "  147.7364501953125,\n",
              "  111.36418914794922,\n",
              "  43.65437698364258,\n",
              "  95.38600158691406],\n",
              " [44.815608978271484,\n",
              "  152.8433074951172,\n",
              "  114.11905670166016,\n",
              "  44.15391159057617,\n",
              "  89.73619842529297],\n",
              " [119.4686508178711,\n",
              "  86.60689544677734,\n",
              "  123.9814453125,\n",
              "  49.069190979003906,\n",
              "  108.02983856201172],\n",
              " [110.16243743896484,\n",
              "  83.14086151123047,\n",
              "  117.75636291503906,\n",
              "  47.93901062011719,\n",
              "  101.7511215209961],\n",
              " [102.00543975830078,\n",
              "  76.55023193359375,\n",
              "  110.31214141845703,\n",
              "  46.05470275878906,\n",
              "  95.8355941772461],\n",
              " [77.71517181396484,\n",
              "  81.16861724853516,\n",
              "  105.57491302490234,\n",
              "  58.53571701049805,\n",
              "  86.33081817626953],\n",
              " [82.79432678222656,\n",
              "  84.78434753417969,\n",
              "  103.3702163696289,\n",
              "  59.320953369140625,\n",
              "  84.20561981201172],\n",
              " [80.53446197509766,\n",
              "  84.45777893066406,\n",
              "  104.57524108886719,\n",
              "  59.329158782958984,\n",
              "  84.12154388427734],\n",
              " [112.15827941894531,\n",
              "  109.04298400878906,\n",
              "  161.54629516601562,\n",
              "  62.87644958496094,\n",
              "  136.36923217773438],\n",
              " [106.81160736083984,\n",
              "  104.36300659179688,\n",
              "  157.69200134277344,\n",
              "  62.66644287109375,\n",
              "  133.93264770507812],\n",
              " [106.81839752197266,\n",
              "  104.68222045898438,\n",
              "  158.05320739746094,\n",
              "  63.37746810913086,\n",
              "  134.26129150390625],\n",
              " [87.32999420166016,\n",
              "  93.21248626708984,\n",
              "  117.06966400146484,\n",
              "  47.54726791381836,\n",
              "  91.90249633789062],\n",
              " [86.7616958618164,\n",
              "  92.6463394165039,\n",
              "  119.7178726196289,\n",
              "  49.407989501953125,\n",
              "  95.17483520507812],\n",
              " [171.24420166015625,\n",
              "  178.85714721679688,\n",
              "  168.39044189453125,\n",
              "  48.60134506225586,\n",
              "  101.36335754394531],\n",
              " [171.4634552001953,\n",
              "  179.0963592529297,\n",
              "  168.77096557617188,\n",
              "  48.56654739379883,\n",
              "  101.78067779541016],\n",
              " [168.34542846679688,\n",
              "  175.86553955078125,\n",
              "  165.7312469482422,\n",
              "  47.96208572387695,\n",
              "  99.81848907470703],\n",
              " [224.64280700683594,\n",
              "  234.5263671875,\n",
              "  219.60032653808594,\n",
              "  61.79887008666992,\n",
              "  129.79995727539062],\n",
              " [243.15061950683594,\n",
              "  252.51937866210938,\n",
              "  236.9824981689453,\n",
              "  66.21023559570312,\n",
              "  140.4720916748047]]"
            ]
          },
          "metadata": {},
          "execution_count": 64
        }
      ]
    }
  ]
}